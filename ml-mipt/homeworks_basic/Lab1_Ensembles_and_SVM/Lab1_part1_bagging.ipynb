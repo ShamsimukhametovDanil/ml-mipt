{
 "cells": [
  {
   "cell_type": "markdown",
   "metadata": {
    "nbgrader": {
     "grade": false,
     "grade_id": "cell-86e0de040aac317a",
     "locked": true,
     "schema_version": 2,
     "solution": false
    }
   },
   "source": [
    "# Лабораторная работа №1. \n",
    "\n",
    "Данная лабораторная работа состоит из нескольких блоков. В каждом блоке вам предлагается произвести некоторые манипуляции с данными и сделать некоторые выводы.\n",
    "* Задавать вопросы можно и нужно.\n",
    "* Списывать не нужно. Работы, которые были списаны обнуляются.\n",
    "* Блоки выполняются последовательно и оцениваются отдельно."
   ]
  },
  {
   "cell_type": "markdown",
   "metadata": {},
   "source": [
    "__Вторая часть задания про градиентный бустинг и третья про SVM ждут вас в соседних ноутбуках.__"
   ]
  },
  {
   "cell_type": "markdown",
   "metadata": {
    "nbgrader": {
     "grade": false,
     "grade_id": "cell-512ba712fc0fc065",
     "locked": true,
     "schema_version": 2,
     "solution": false
    }
   },
   "source": [
    "## Часть 1. Работа с моделями и ансамблями моделей в задачи классификации."
   ]
  },
  {
   "cell_type": "markdown",
   "metadata": {
    "nbgrader": {
     "grade": false,
     "grade_id": "cell-b656a4266174b009",
     "locked": true,
     "schema_version": 2,
     "solution": false
    }
   },
   "source": [
    "### 1. Чтение данных.\n",
    "Воспользуемся [датасетом](https://archive.ics.uci.edu/ml/datasets/Statlog+%28Vehicle+Silhouettes%29), в котором описываются различные автомобили. Будем решать задачу многоклассовой ($k=4$) классификации.\n",
    "Для удобства, датасет уже преобразован в удобный формат."
   ]
  },
  {
   "cell_type": "code",
   "execution_count": 69,
   "metadata": {
    "nbgrader": {
     "grade": false,
     "grade_id": "cell-eebac6bfdf73d0bc",
     "locked": true,
     "schema_version": 2,
     "solution": false
    }
   },
   "outputs": [
    {
     "name": "stdout",
     "output_type": "stream",
     "text": [
      "(846, 19) (846,)\n",
      "(549, 19) (549,) (297, 19) (297,)\n"
     ]
    }
   ],
   "source": [
    "import pandas as pd\n",
    "import numpy as np\n",
    "from sklearn.model_selection import train_test_split\n",
    "from sklearn.linear_model import LogisticRegression\n",
    "from sklearn.metrics import f1_score, accuracy_score\n",
    "\n",
    "from matplotlib import pyplot as plt\n",
    "\n",
    "\n",
    "dataset = pd.read_csv('car_data.csv', delimiter=',', header=None).values\n",
    "data = dataset[:, :-1].astype(int)\n",
    "target = dataset[:, -1]\n",
    "\n",
    "print(data.shape, target.shape)\n",
    "\n",
    "X_train, X_test, y_train, y_test = train_test_split(data, target, test_size=0.35)\n",
    "print(X_train.shape, y_train.shape, X_test.shape, y_test.shape)"
   ]
  },
  {
   "cell_type": "markdown",
   "metadata": {
    "nbgrader": {
     "grade": false,
     "grade_id": "cell-88b1a0f688568f2c",
     "locked": true,
     "schema_version": 2,
     "solution": false
    }
   },
   "source": [
    "Для первичного анализа может быть полезна библиотека `pandas`. Преобразуем `train` выборку в `pd.DataFrame`."
   ]
  },
  {
   "cell_type": "code",
   "execution_count": 5,
   "metadata": {},
   "outputs": [
    {
     "data": {
      "text/html": [
       "<div>\n",
       "<style scoped>\n",
       "    .dataframe tbody tr th:only-of-type {\n",
       "        vertical-align: middle;\n",
       "    }\n",
       "\n",
       "    .dataframe tbody tr th {\n",
       "        vertical-align: top;\n",
       "    }\n",
       "\n",
       "    .dataframe thead th {\n",
       "        text-align: right;\n",
       "    }\n",
       "</style>\n",
       "<table border=\"1\" class=\"dataframe\">\n",
       "  <thead>\n",
       "    <tr style=\"text-align: right;\">\n",
       "      <th></th>\n",
       "      <th>0</th>\n",
       "      <th>1</th>\n",
       "      <th>2</th>\n",
       "      <th>3</th>\n",
       "      <th>4</th>\n",
       "      <th>5</th>\n",
       "      <th>6</th>\n",
       "      <th>7</th>\n",
       "      <th>8</th>\n",
       "      <th>9</th>\n",
       "      <th>10</th>\n",
       "      <th>11</th>\n",
       "      <th>12</th>\n",
       "      <th>13</th>\n",
       "      <th>14</th>\n",
       "      <th>15</th>\n",
       "      <th>16</th>\n",
       "      <th>17</th>\n",
       "      <th>18</th>\n",
       "    </tr>\n",
       "  </thead>\n",
       "  <tbody>\n",
       "    <tr>\n",
       "      <td>0</td>\n",
       "      <td>688</td>\n",
       "      <td>89</td>\n",
       "      <td>35</td>\n",
       "      <td>52</td>\n",
       "      <td>121</td>\n",
       "      <td>57</td>\n",
       "      <td>4</td>\n",
       "      <td>122</td>\n",
       "      <td>55</td>\n",
       "      <td>17</td>\n",
       "      <td>125</td>\n",
       "      <td>139</td>\n",
       "      <td>220</td>\n",
       "      <td>128</td>\n",
       "      <td>82</td>\n",
       "      <td>5</td>\n",
       "      <td>13</td>\n",
       "      <td>181</td>\n",
       "      <td>184</td>\n",
       "    </tr>\n",
       "    <tr>\n",
       "      <td>1</td>\n",
       "      <td>265</td>\n",
       "      <td>80</td>\n",
       "      <td>45</td>\n",
       "      <td>71</td>\n",
       "      <td>128</td>\n",
       "      <td>56</td>\n",
       "      <td>7</td>\n",
       "      <td>151</td>\n",
       "      <td>45</td>\n",
       "      <td>19</td>\n",
       "      <td>147</td>\n",
       "      <td>171</td>\n",
       "      <td>337</td>\n",
       "      <td>176</td>\n",
       "      <td>79</td>\n",
       "      <td>3</td>\n",
       "      <td>16</td>\n",
       "      <td>181</td>\n",
       "      <td>187</td>\n",
       "    </tr>\n",
       "    <tr>\n",
       "      <td>2</td>\n",
       "      <td>258</td>\n",
       "      <td>99</td>\n",
       "      <td>48</td>\n",
       "      <td>104</td>\n",
       "      <td>196</td>\n",
       "      <td>63</td>\n",
       "      <td>10</td>\n",
       "      <td>201</td>\n",
       "      <td>33</td>\n",
       "      <td>23</td>\n",
       "      <td>152</td>\n",
       "      <td>221</td>\n",
       "      <td>604</td>\n",
       "      <td>199</td>\n",
       "      <td>73</td>\n",
       "      <td>8</td>\n",
       "      <td>4</td>\n",
       "      <td>188</td>\n",
       "      <td>197</td>\n",
       "    </tr>\n",
       "    <tr>\n",
       "      <td>3</td>\n",
       "      <td>322</td>\n",
       "      <td>87</td>\n",
       "      <td>43</td>\n",
       "      <td>65</td>\n",
       "      <td>127</td>\n",
       "      <td>56</td>\n",
       "      <td>8</td>\n",
       "      <td>149</td>\n",
       "      <td>46</td>\n",
       "      <td>19</td>\n",
       "      <td>143</td>\n",
       "      <td>169</td>\n",
       "      <td>322</td>\n",
       "      <td>171</td>\n",
       "      <td>85</td>\n",
       "      <td>6</td>\n",
       "      <td>3</td>\n",
       "      <td>180</td>\n",
       "      <td>182</td>\n",
       "    </tr>\n",
       "    <tr>\n",
       "      <td>4</td>\n",
       "      <td>25</td>\n",
       "      <td>85</td>\n",
       "      <td>45</td>\n",
       "      <td>80</td>\n",
       "      <td>154</td>\n",
       "      <td>64</td>\n",
       "      <td>9</td>\n",
       "      <td>147</td>\n",
       "      <td>45</td>\n",
       "      <td>19</td>\n",
       "      <td>148</td>\n",
       "      <td>169</td>\n",
       "      <td>324</td>\n",
       "      <td>174</td>\n",
       "      <td>71</td>\n",
       "      <td>1</td>\n",
       "      <td>4</td>\n",
       "      <td>188</td>\n",
       "      <td>199</td>\n",
       "    </tr>\n",
       "    <tr>\n",
       "      <td>5</td>\n",
       "      <td>389</td>\n",
       "      <td>100</td>\n",
       "      <td>57</td>\n",
       "      <td>107</td>\n",
       "      <td>207</td>\n",
       "      <td>63</td>\n",
       "      <td>11</td>\n",
       "      <td>227</td>\n",
       "      <td>30</td>\n",
       "      <td>25</td>\n",
       "      <td>180</td>\n",
       "      <td>234</td>\n",
       "      <td>756</td>\n",
       "      <td>205</td>\n",
       "      <td>72</td>\n",
       "      <td>6</td>\n",
       "      <td>19</td>\n",
       "      <td>186</td>\n",
       "      <td>198</td>\n",
       "    </tr>\n",
       "    <tr>\n",
       "      <td>6</td>\n",
       "      <td>830</td>\n",
       "      <td>97</td>\n",
       "      <td>37</td>\n",
       "      <td>70</td>\n",
       "      <td>173</td>\n",
       "      <td>66</td>\n",
       "      <td>7</td>\n",
       "      <td>151</td>\n",
       "      <td>43</td>\n",
       "      <td>19</td>\n",
       "      <td>129</td>\n",
       "      <td>167</td>\n",
       "      <td>346</td>\n",
       "      <td>119</td>\n",
       "      <td>65</td>\n",
       "      <td>0</td>\n",
       "      <td>16</td>\n",
       "      <td>201</td>\n",
       "      <td>208</td>\n",
       "    </tr>\n",
       "    <tr>\n",
       "      <td>7</td>\n",
       "      <td>275</td>\n",
       "      <td>87</td>\n",
       "      <td>44</td>\n",
       "      <td>70</td>\n",
       "      <td>179</td>\n",
       "      <td>75</td>\n",
       "      <td>6</td>\n",
       "      <td>146</td>\n",
       "      <td>45</td>\n",
       "      <td>19</td>\n",
       "      <td>141</td>\n",
       "      <td>167</td>\n",
       "      <td>326</td>\n",
       "      <td>178</td>\n",
       "      <td>69</td>\n",
       "      <td>6</td>\n",
       "      <td>1</td>\n",
       "      <td>194</td>\n",
       "      <td>201</td>\n",
       "    </tr>\n",
       "    <tr>\n",
       "      <td>8</td>\n",
       "      <td>115</td>\n",
       "      <td>95</td>\n",
       "      <td>47</td>\n",
       "      <td>88</td>\n",
       "      <td>162</td>\n",
       "      <td>64</td>\n",
       "      <td>11</td>\n",
       "      <td>159</td>\n",
       "      <td>43</td>\n",
       "      <td>20</td>\n",
       "      <td>157</td>\n",
       "      <td>176</td>\n",
       "      <td>371</td>\n",
       "      <td>185</td>\n",
       "      <td>71</td>\n",
       "      <td>12</td>\n",
       "      <td>13</td>\n",
       "      <td>189</td>\n",
       "      <td>198</td>\n",
       "    </tr>\n",
       "    <tr>\n",
       "      <td>9</td>\n",
       "      <td>347</td>\n",
       "      <td>88</td>\n",
       "      <td>44</td>\n",
       "      <td>77</td>\n",
       "      <td>167</td>\n",
       "      <td>59</td>\n",
       "      <td>6</td>\n",
       "      <td>151</td>\n",
       "      <td>44</td>\n",
       "      <td>19</td>\n",
       "      <td>145</td>\n",
       "      <td>175</td>\n",
       "      <td>343</td>\n",
       "      <td>177</td>\n",
       "      <td>64</td>\n",
       "      <td>9</td>\n",
       "      <td>12</td>\n",
       "      <td>202</td>\n",
       "      <td>208</td>\n",
       "    </tr>\n",
       "    <tr>\n",
       "      <td>10</td>\n",
       "      <td>163</td>\n",
       "      <td>85</td>\n",
       "      <td>40</td>\n",
       "      <td>72</td>\n",
       "      <td>139</td>\n",
       "      <td>59</td>\n",
       "      <td>5</td>\n",
       "      <td>132</td>\n",
       "      <td>50</td>\n",
       "      <td>18</td>\n",
       "      <td>135</td>\n",
       "      <td>159</td>\n",
       "      <td>260</td>\n",
       "      <td>150</td>\n",
       "      <td>68</td>\n",
       "      <td>3</td>\n",
       "      <td>9</td>\n",
       "      <td>191</td>\n",
       "      <td>195</td>\n",
       "    </tr>\n",
       "    <tr>\n",
       "      <td>11</td>\n",
       "      <td>636</td>\n",
       "      <td>96</td>\n",
       "      <td>41</td>\n",
       "      <td>69</td>\n",
       "      <td>153</td>\n",
       "      <td>56</td>\n",
       "      <td>7</td>\n",
       "      <td>141</td>\n",
       "      <td>47</td>\n",
       "      <td>18</td>\n",
       "      <td>141</td>\n",
       "      <td>162</td>\n",
       "      <td>297</td>\n",
       "      <td>169</td>\n",
       "      <td>61</td>\n",
       "      <td>11</td>\n",
       "      <td>8</td>\n",
       "      <td>202</td>\n",
       "      <td>209</td>\n",
       "    </tr>\n",
       "    <tr>\n",
       "      <td>12</td>\n",
       "      <td>257</td>\n",
       "      <td>92</td>\n",
       "      <td>43</td>\n",
       "      <td>69</td>\n",
       "      <td>158</td>\n",
       "      <td>56</td>\n",
       "      <td>7</td>\n",
       "      <td>149</td>\n",
       "      <td>44</td>\n",
       "      <td>19</td>\n",
       "      <td>143</td>\n",
       "      <td>170</td>\n",
       "      <td>333</td>\n",
       "      <td>168</td>\n",
       "      <td>63</td>\n",
       "      <td>14</td>\n",
       "      <td>18</td>\n",
       "      <td>198</td>\n",
       "      <td>203</td>\n",
       "    </tr>\n",
       "    <tr>\n",
       "      <td>13</td>\n",
       "      <td>584</td>\n",
       "      <td>100</td>\n",
       "      <td>51</td>\n",
       "      <td>89</td>\n",
       "      <td>199</td>\n",
       "      <td>65</td>\n",
       "      <td>6</td>\n",
       "      <td>201</td>\n",
       "      <td>32</td>\n",
       "      <td>23</td>\n",
       "      <td>159</td>\n",
       "      <td>219</td>\n",
       "      <td>622</td>\n",
       "      <td>205</td>\n",
       "      <td>74</td>\n",
       "      <td>6</td>\n",
       "      <td>7</td>\n",
       "      <td>193</td>\n",
       "      <td>193</td>\n",
       "    </tr>\n",
       "    <tr>\n",
       "      <td>14</td>\n",
       "      <td>140</td>\n",
       "      <td>90</td>\n",
       "      <td>37</td>\n",
       "      <td>80</td>\n",
       "      <td>171</td>\n",
       "      <td>58</td>\n",
       "      <td>9</td>\n",
       "      <td>157</td>\n",
       "      <td>42</td>\n",
       "      <td>20</td>\n",
       "      <td>132</td>\n",
       "      <td>172</td>\n",
       "      <td>373</td>\n",
       "      <td>115</td>\n",
       "      <td>60</td>\n",
       "      <td>3</td>\n",
       "      <td>18</td>\n",
       "      <td>201</td>\n",
       "      <td>209</td>\n",
       "    </tr>\n",
       "  </tbody>\n",
       "</table>\n",
       "</div>"
      ],
      "text/plain": [
       "      0    1   2    3    4   5   6    7   8   9   10   11   12   13  14  15  \\\n",
       "0   688   89  35   52  121  57   4  122  55  17  125  139  220  128  82   5   \n",
       "1   265   80  45   71  128  56   7  151  45  19  147  171  337  176  79   3   \n",
       "2   258   99  48  104  196  63  10  201  33  23  152  221  604  199  73   8   \n",
       "3   322   87  43   65  127  56   8  149  46  19  143  169  322  171  85   6   \n",
       "4    25   85  45   80  154  64   9  147  45  19  148  169  324  174  71   1   \n",
       "5   389  100  57  107  207  63  11  227  30  25  180  234  756  205  72   6   \n",
       "6   830   97  37   70  173  66   7  151  43  19  129  167  346  119  65   0   \n",
       "7   275   87  44   70  179  75   6  146  45  19  141  167  326  178  69   6   \n",
       "8   115   95  47   88  162  64  11  159  43  20  157  176  371  185  71  12   \n",
       "9   347   88  44   77  167  59   6  151  44  19  145  175  343  177  64   9   \n",
       "10  163   85  40   72  139  59   5  132  50  18  135  159  260  150  68   3   \n",
       "11  636   96  41   69  153  56   7  141  47  18  141  162  297  169  61  11   \n",
       "12  257   92  43   69  158  56   7  149  44  19  143  170  333  168  63  14   \n",
       "13  584  100  51   89  199  65   6  201  32  23  159  219  622  205  74   6   \n",
       "14  140   90  37   80  171  58   9  157  42  20  132  172  373  115  60   3   \n",
       "\n",
       "    16   17   18  \n",
       "0   13  181  184  \n",
       "1   16  181  187  \n",
       "2    4  188  197  \n",
       "3    3  180  182  \n",
       "4    4  188  199  \n",
       "5   19  186  198  \n",
       "6   16  201  208  \n",
       "7    1  194  201  \n",
       "8   13  189  198  \n",
       "9   12  202  208  \n",
       "10   9  191  195  \n",
       "11   8  202  209  \n",
       "12  18  198  203  \n",
       "13   7  193  193  \n",
       "14  18  201  209  "
      ]
     },
     "execution_count": 5,
     "metadata": {},
     "output_type": "execute_result"
    }
   ],
   "source": [
    "X_train_pd = pd.DataFrame(X_train)\n",
    "\n",
    "# First 15 rows of our dataset.\n",
    "X_train_pd.head(15)"
   ]
  },
  {
   "cell_type": "code",
   "execution_count": 12,
   "metadata": {},
   "outputs": [
    {
     "data": {
      "image/png": "[encoded data removed]",
      "text/plain": [
       "<Figure size 720x576 with 2 Axes>"
      ]
     },
     "metadata": {
      "needs_background": "light"
     },
     "output_type": "display_data"
    }
   ],
   "source": [
    "correlation_heatmap(X_train_pd)"
   ]
  },
  {
   "cell_type": "markdown",
   "metadata": {
    "nbgrader": {
     "grade": false,
     "grade_id": "cell-98e7d91d77d65fcf",
     "locked": true,
     "schema_version": 2,
     "solution": false
    }
   },
   "source": [
    "Воспользовавшись методами `describe` и `info` можно получить полезную информацию о датасете."
   ]
  },
  {
   "cell_type": "code",
   "execution_count": 13,
   "metadata": {},
   "outputs": [
    {
     "data": {
      "text/html": [
       "<div>\n",
       "<style scoped>\n",
       "    .dataframe tbody tr th:only-of-type {\n",
       "        vertical-align: middle;\n",
       "    }\n",
       "\n",
       "    .dataframe tbody tr th {\n",
       "        vertical-align: top;\n",
       "    }\n",
       "\n",
       "    .dataframe thead th {\n",
       "        text-align: right;\n",
       "    }\n",
       "</style>\n",
       "<table border=\"1\" class=\"dataframe\">\n",
       "  <thead>\n",
       "    <tr style=\"text-align: right;\">\n",
       "      <th></th>\n",
       "      <th>0</th>\n",
       "      <th>1</th>\n",
       "      <th>2</th>\n",
       "      <th>3</th>\n",
       "      <th>4</th>\n",
       "      <th>5</th>\n",
       "      <th>6</th>\n",
       "      <th>7</th>\n",
       "      <th>8</th>\n",
       "      <th>9</th>\n",
       "      <th>10</th>\n",
       "      <th>11</th>\n",
       "      <th>12</th>\n",
       "      <th>13</th>\n",
       "      <th>14</th>\n",
       "      <th>15</th>\n",
       "      <th>16</th>\n",
       "      <th>17</th>\n",
       "      <th>18</th>\n",
       "    </tr>\n",
       "  </thead>\n",
       "  <tbody>\n",
       "    <tr>\n",
       "      <td>count</td>\n",
       "      <td>549.000000</td>\n",
       "      <td>549.000000</td>\n",
       "      <td>549.000000</td>\n",
       "      <td>549.000000</td>\n",
       "      <td>549.000000</td>\n",
       "      <td>549.000000</td>\n",
       "      <td>549.000000</td>\n",
       "      <td>549.000000</td>\n",
       "      <td>549.000000</td>\n",
       "      <td>549.000000</td>\n",
       "      <td>549.000000</td>\n",
       "      <td>549.000000</td>\n",
       "      <td>549.000000</td>\n",
       "      <td>549.000000</td>\n",
       "      <td>549.000000</td>\n",
       "      <td>549.000000</td>\n",
       "      <td>549.000000</td>\n",
       "      <td>549.000000</td>\n",
       "      <td>549.000000</td>\n",
       "    </tr>\n",
       "    <tr>\n",
       "      <td>mean</td>\n",
       "      <td>413.834244</td>\n",
       "      <td>93.659381</td>\n",
       "      <td>44.865209</td>\n",
       "      <td>82.131148</td>\n",
       "      <td>169.003643</td>\n",
       "      <td>61.788707</td>\n",
       "      <td>8.630237</td>\n",
       "      <td>168.870674</td>\n",
       "      <td>40.890710</td>\n",
       "      <td>20.584699</td>\n",
       "      <td>147.956284</td>\n",
       "      <td>188.872495</td>\n",
       "      <td>439.919854</td>\n",
       "      <td>174.825137</td>\n",
       "      <td>72.571949</td>\n",
       "      <td>6.520947</td>\n",
       "      <td>12.788707</td>\n",
       "      <td>189.047359</td>\n",
       "      <td>195.693989</td>\n",
       "    </tr>\n",
       "    <tr>\n",
       "      <td>std</td>\n",
       "      <td>249.362237</td>\n",
       "      <td>8.215095</td>\n",
       "      <td>6.098346</td>\n",
       "      <td>15.564474</td>\n",
       "      <td>32.826685</td>\n",
       "      <td>8.075091</td>\n",
       "      <td>4.975109</td>\n",
       "      <td>33.030118</td>\n",
       "      <td>7.754142</td>\n",
       "      <td>2.583394</td>\n",
       "      <td>14.433269</td>\n",
       "      <td>31.510312</td>\n",
       "      <td>175.482549</td>\n",
       "      <td>31.973278</td>\n",
       "      <td>7.904587</td>\n",
       "      <td>4.988126</td>\n",
       "      <td>8.848841</td>\n",
       "      <td>6.130391</td>\n",
       "      <td>7.431265</td>\n",
       "    </tr>\n",
       "    <tr>\n",
       "      <td>min</td>\n",
       "      <td>1.000000</td>\n",
       "      <td>73.000000</td>\n",
       "      <td>33.000000</td>\n",
       "      <td>40.000000</td>\n",
       "      <td>104.000000</td>\n",
       "      <td>47.000000</td>\n",
       "      <td>2.000000</td>\n",
       "      <td>112.000000</td>\n",
       "      <td>26.000000</td>\n",
       "      <td>17.000000</td>\n",
       "      <td>118.000000</td>\n",
       "      <td>130.000000</td>\n",
       "      <td>184.000000</td>\n",
       "      <td>109.000000</td>\n",
       "      <td>60.000000</td>\n",
       "      <td>0.000000</td>\n",
       "      <td>0.000000</td>\n",
       "      <td>176.000000</td>\n",
       "      <td>181.000000</td>\n",
       "    </tr>\n",
       "    <tr>\n",
       "      <td>25%</td>\n",
       "      <td>198.000000</td>\n",
       "      <td>87.000000</td>\n",
       "      <td>40.000000</td>\n",
       "      <td>70.000000</td>\n",
       "      <td>141.000000</td>\n",
       "      <td>57.000000</td>\n",
       "      <td>7.000000</td>\n",
       "      <td>147.000000</td>\n",
       "      <td>33.000000</td>\n",
       "      <td>19.000000</td>\n",
       "      <td>137.000000</td>\n",
       "      <td>167.000000</td>\n",
       "      <td>319.000000</td>\n",
       "      <td>150.000000</td>\n",
       "      <td>67.000000</td>\n",
       "      <td>2.000000</td>\n",
       "      <td>6.000000</td>\n",
       "      <td>185.000000</td>\n",
       "      <td>191.000000</td>\n",
       "    </tr>\n",
       "    <tr>\n",
       "      <td>50%</td>\n",
       "      <td>402.000000</td>\n",
       "      <td>93.000000</td>\n",
       "      <td>44.000000</td>\n",
       "      <td>80.000000</td>\n",
       "      <td>169.000000</td>\n",
       "      <td>62.000000</td>\n",
       "      <td>8.000000</td>\n",
       "      <td>157.000000</td>\n",
       "      <td>43.000000</td>\n",
       "      <td>20.000000</td>\n",
       "      <td>145.000000</td>\n",
       "      <td>179.000000</td>\n",
       "      <td>365.000000</td>\n",
       "      <td>173.000000</td>\n",
       "      <td>72.000000</td>\n",
       "      <td>6.000000</td>\n",
       "      <td>11.000000</td>\n",
       "      <td>189.000000</td>\n",
       "      <td>197.000000</td>\n",
       "    </tr>\n",
       "    <tr>\n",
       "      <td>75%</td>\n",
       "      <td>635.000000</td>\n",
       "      <td>100.000000</td>\n",
       "      <td>49.000000</td>\n",
       "      <td>98.000000</td>\n",
       "      <td>194.000000</td>\n",
       "      <td>65.000000</td>\n",
       "      <td>10.000000</td>\n",
       "      <td>198.000000</td>\n",
       "      <td>46.000000</td>\n",
       "      <td>23.000000</td>\n",
       "      <td>159.000000</td>\n",
       "      <td>216.000000</td>\n",
       "      <td>586.000000</td>\n",
       "      <td>200.000000</td>\n",
       "      <td>75.000000</td>\n",
       "      <td>9.000000</td>\n",
       "      <td>19.000000</td>\n",
       "      <td>193.000000</td>\n",
       "      <td>201.000000</td>\n",
       "    </tr>\n",
       "    <tr>\n",
       "      <td>max</td>\n",
       "      <td>845.000000</td>\n",
       "      <td>119.000000</td>\n",
       "      <td>59.000000</td>\n",
       "      <td>110.000000</td>\n",
       "      <td>333.000000</td>\n",
       "      <td>138.000000</td>\n",
       "      <td>55.000000</td>\n",
       "      <td>261.000000</td>\n",
       "      <td>61.000000</td>\n",
       "      <td>28.000000</td>\n",
       "      <td>188.000000</td>\n",
       "      <td>320.000000</td>\n",
       "      <td>998.000000</td>\n",
       "      <td>264.000000</td>\n",
       "      <td>135.000000</td>\n",
       "      <td>22.000000</td>\n",
       "      <td>41.000000</td>\n",
       "      <td>203.000000</td>\n",
       "      <td>211.000000</td>\n",
       "    </tr>\n",
       "  </tbody>\n",
       "</table>\n",
       "</div>"
      ],
      "text/plain": [
       "               0           1           2           3           4           5   \\\n",
       "count  549.000000  549.000000  549.000000  549.000000  549.000000  549.000000   \n",
       "mean   413.834244   93.659381   44.865209   82.131148  169.003643   61.788707   \n",
       "std    249.362237    8.215095    6.098346   15.564474   32.826685    8.075091   \n",
       "min      1.000000   73.000000   33.000000   40.000000  104.000000   47.000000   \n",
       "25%    198.000000   87.000000   40.000000   70.000000  141.000000   57.000000   \n",
       "50%    402.000000   93.000000   44.000000   80.000000  169.000000   62.000000   \n",
       "75%    635.000000  100.000000   49.000000   98.000000  194.000000   65.000000   \n",
       "max    845.000000  119.000000   59.000000  110.000000  333.000000  138.000000   \n",
       "\n",
       "               6           7           8           9           10          11  \\\n",
       "count  549.000000  549.000000  549.000000  549.000000  549.000000  549.000000   \n",
       "mean     8.630237  168.870674   40.890710   20.584699  147.956284  188.872495   \n",
       "std      4.975109   33.030118    7.754142    2.583394   14.433269   31.510312   \n",
       "min      2.000000  112.000000   26.000000   17.000000  118.000000  130.000000   \n",
       "25%      7.000000  147.000000   33.000000   19.000000  137.000000  167.000000   \n",
       "50%      8.000000  157.000000   43.000000   20.000000  145.000000  179.000000   \n",
       "75%     10.000000  198.000000   46.000000   23.000000  159.000000  216.000000   \n",
       "max     55.000000  261.000000   61.000000   28.000000  188.000000  320.000000   \n",
       "\n",
       "               12          13          14          15          16          17  \\\n",
       "count  549.000000  549.000000  549.000000  549.000000  549.000000  549.000000   \n",
       "mean   439.919854  174.825137   72.571949    6.520947   12.788707  189.047359   \n",
       "std    175.482549   31.973278    7.904587    4.988126    8.848841    6.130391   \n",
       "min    184.000000  109.000000   60.000000    0.000000    0.000000  176.000000   \n",
       "25%    319.000000  150.000000   67.000000    2.000000    6.000000  185.000000   \n",
       "50%    365.000000  173.000000   72.000000    6.000000   11.000000  189.000000   \n",
       "75%    586.000000  200.000000   75.000000    9.000000   19.000000  193.000000   \n",
       "max    998.000000  264.000000  135.000000   22.000000   41.000000  203.000000   \n",
       "\n",
       "               18  \n",
       "count  549.000000  \n",
       "mean   195.693989  \n",
       "std      7.431265  \n",
       "min    181.000000  \n",
       "25%    191.000000  \n",
       "50%    197.000000  \n",
       "75%    201.000000  \n",
       "max    211.000000  "
      ]
     },
     "execution_count": 13,
     "metadata": {},
     "output_type": "execute_result"
    }
   ],
   "source": [
    "X_train_pd.describe()"
   ]
  },
  {
   "cell_type": "code",
   "execution_count": 14,
   "metadata": {},
   "outputs": [
    {
     "name": "stdout",
     "output_type": "stream",
     "text": [
      "<class 'pandas.core.frame.DataFrame'>\n",
      "RangeIndex: 549 entries, 0 to 548\n",
      "Data columns (total 19 columns):\n",
      "0     549 non-null int64\n",
      "1     549 non-null int64\n",
      "2     549 non-null int64\n",
      "3     549 non-null int64\n",
      "4     549 non-null int64\n",
      "5     549 non-null int64\n",
      "6     549 non-null int64\n",
      "7     549 non-null int64\n",
      "8     549 non-null int64\n",
      "9     549 non-null int64\n",
      "10    549 non-null int64\n",
      "11    549 non-null int64\n",
      "12    549 non-null int64\n",
      "13    549 non-null int64\n",
      "14    549 non-null int64\n",
      "15    549 non-null int64\n",
      "16    549 non-null int64\n",
      "17    549 non-null int64\n",
      "18    549 non-null int64\n",
      "dtypes: int64(19)\n",
      "memory usage: 81.6 KB\n"
     ]
    }
   ],
   "source": [
    "X_train_pd.info()"
   ]
  },
  {
   "cell_type": "markdown",
   "metadata": {
    "nbgrader": {
     "grade": false,
     "grade_id": "cell-be844269be69c387",
     "locked": true,
     "schema_version": 2,
     "solution": false
    }
   },
   "source": [
    "### 2. Работа с данными, построение модели, анализ ошибки.\n",
    "Выполните следующие манипуляции с данными:"
   ]
  },
  {
   "cell_type": "markdown",
   "metadata": {},
   "source": [
    "# Normalization"
   ]
  },
  {
   "cell_type": "code",
   "execution_count": 15,
   "metadata": {
    "nbgrader": {
     "grade": true,
     "grade_id": "cell-a1514aa189a49fca",
     "locked": false,
     "points": 15,
     "schema_version": 2,
     "solution": true
    }
   },
   "outputs": [],
   "source": [
    "### YOUR CODE HERE\n",
    "def normalized_column(data_column):\n",
    "    init_col = np.array(data_column)\n",
    "    return (init_col - min(init_col))/(max(init_col) - min(init_col))\n",
    "\n",
    "def normalized_data(all_data):\n",
    "    for col in all_data.columns:\n",
    "        all_data[col] = normalized_column(all_data[col]) \n",
    "        #print(max(normalized_column(all_data[col])), min(normalized_column(all_data[col])))\n",
    "        if True in set(np.isnan(normalized_column(all_data[col]))):\n",
    "            print(col, 'NAN')\n",
    "        if False in set(np.isfinite(normalized_column(all_data[col]))):\n",
    "            print(col, 'INF')\n",
    "    return all_data"
   ]
  },
  {
   "cell_type": "markdown",
   "metadata": {},
   "source": [
    "# Standartization"
   ]
  },
  {
   "cell_type": "code",
   "execution_count": 16,
   "metadata": {},
   "outputs": [],
   "source": [
    "def std_column(data_column):\n",
    "    init_col = np.array(data_column)\n",
    "    return (init_col - np.mean(init_col))/np.std(init_col)\n",
    "\n",
    "def std_data(all_data):\n",
    "    for col in all_data.columns:\n",
    "        all_data[col] = std_column(all_data[col]) \n",
    "        #print(max(normalized_column(all_data[col])), min(normalized_column(all_data[col])))\n",
    "        if True in set(np.isnan(std_column(all_data[col]))):\n",
    "            print(col, 'NAN')\n",
    "        if False in set(np.isfinite(std_column(all_data[col]))):\n",
    "            print(col, 'INF')\n",
    "    return all_data"
   ]
  },
  {
   "cell_type": "code",
   "execution_count": 17,
   "metadata": {},
   "outputs": [],
   "source": [
    "X_train_pd = std_data(X_train_pd)"
   ]
  },
  {
   "cell_type": "markdown",
   "metadata": {},
   "source": [
    "# Correlation"
   ]
  },
  {
   "cell_type": "code",
   "execution_count": 18,
   "metadata": {},
   "outputs": [],
   "source": [
    "def correlation_features(all_data, border = 0.5):\n",
    "    for col_1 in all_data.columns:\n",
    "        for col_2 in all_data.columns[col_1+1:]:\n",
    "            if abs(all_data.corr()[col_1][col_2]) > border:\n",
    "                print(col_1, ' and ' , col_2, ' correlated with ', all_data.corr()[col_1][col_2])\n",
    "\n",
    "def correlation_heatmap(all_data):\n",
    "    \n",
    "    from matplotlib import pyplot as plt\n",
    "    import seaborn as sns\n",
    "    \n",
    "    f, ax = plt.subplots(figsize=(10, 8))\n",
    "    corr = all_data.corr()\n",
    "    sns.heatmap(corr, square=True, ax=ax, cmap=sns.diverging_palette(220, 10, as_cmap=True))\n",
    "    \n"
   ]
  },
  {
   "cell_type": "code",
   "execution_count": 19,
   "metadata": {},
   "outputs": [
    {
     "name": "stdout",
     "output_type": "stream",
     "text": [
      "2  and  10  correlated with  0.9663790797632577\n",
      "2  and  13  correlated with  0.9339152638520294\n",
      "3  and  7  correlated with  0.9016078192846337\n",
      "3  and  8  correlated with  -0.906051721978673\n",
      "7  and  8  correlated with  -0.9736371556847249\n",
      "7  and  9  correlated with  0.9922536040586821\n",
      "7  and  11  correlated with  0.9392084590425371\n",
      "7  and  12  correlated with  0.9963916076371879\n",
      "8  and  9  correlated with  -0.9512075072405922\n",
      "8  and  11  correlated with  -0.9264191357612895\n",
      "8  and  12  correlated with  -0.9571783960456959\n",
      "9  and  11  correlated with  0.924427565558556\n",
      "9  and  12  correlated with  0.9927266225409603\n",
      "11  and  12  correlated with  0.9373457789765364\n"
     ]
    },
    {
     "data": {
      "image/png": "[encoded data removed]",
      "text/plain": [
       "<Figure size 720x576 with 2 Axes>"
      ]
     },
     "metadata": {
      "needs_background": "light"
     },
     "output_type": "display_data"
    }
   ],
   "source": [
    "correlation_features(X_train_pd, 0.9)\n",
    "correlation_heatmap(X_train_pd)"
   ]
  },
  {
   "cell_type": "code",
   "execution_count": 20,
   "metadata": {},
   "outputs": [],
   "source": [
    "corr_list = [1, 2, 4, 6, 7, 8, 9, 10, 11, 12, 17, 18]\n",
    "corr_list2 = [2, 8, 9, 11, 12]"
   ]
  },
  {
   "cell_type": "code",
   "execution_count": 21,
   "metadata": {},
   "outputs": [],
   "source": [
    "def preprocessing(data, normal = True, std = True, correlation_list = []):\n",
    "    data_pd = pd.DataFrame(data)\n",
    "    if normal:\n",
    "        data_pd = normalized_data(data_pd)\n",
    "    \n",
    "    if std:\n",
    "        data_pd = std_data(data_pd)\n",
    "    \n",
    "    data_pd.drop(correlation_list, axis = 1)\n",
    "        \n",
    "    return data_pd[data_pd.columns].values"
   ]
  },
  {
   "cell_type": "code",
   "execution_count": 22,
   "metadata": {},
   "outputs": [],
   "source": [
    "X_train_processed = preprocessing(X_train, normal = False, std = False,  correlation_list =  corr_list2)\n",
    "X_test_processed = preprocessing(X_test, normal = False, std = False, correlation_list = corr_list2)"
   ]
  },
  {
   "cell_type": "markdown",
   "metadata": {},
   "source": [
    "#### 2.0. Предобработка данных.\n",
    "* Произведите необходимые (по вашему мнению) манипуляции с данными и объясните их."
   ]
  },
  {
   "cell_type": "code",
   "execution_count": 70,
   "metadata": {},
   "outputs": [],
   "source": [
    "from sklearn.preprocessing import StandardScaler\n",
    "scaler = StandardScaler()\n",
    "#standartization\n",
    "scaler.fit(X_train)\n",
    "\n",
    "X_train = scaler.transform(X_train)\n",
    "X_test = scaler.transform(X_test)"
   ]
  },
  {
   "cell_type": "code",
   "execution_count": 33,
   "metadata": {},
   "outputs": [
    {
     "data": {
      "text/html": [
       "<div>\n",
       "<style scoped>\n",
       "    .dataframe tbody tr th:only-of-type {\n",
       "        vertical-align: middle;\n",
       "    }\n",
       "\n",
       "    .dataframe tbody tr th {\n",
       "        vertical-align: top;\n",
       "    }\n",
       "\n",
       "    .dataframe thead th {\n",
       "        text-align: right;\n",
       "    }\n",
       "</style>\n",
       "<table border=\"1\" class=\"dataframe\">\n",
       "  <thead>\n",
       "    <tr style=\"text-align: right;\">\n",
       "      <th></th>\n",
       "      <th>0</th>\n",
       "      <th>1</th>\n",
       "      <th>2</th>\n",
       "      <th>3</th>\n",
       "      <th>4</th>\n",
       "      <th>5</th>\n",
       "      <th>6</th>\n",
       "      <th>7</th>\n",
       "      <th>8</th>\n",
       "      <th>9</th>\n",
       "      <th>10</th>\n",
       "      <th>11</th>\n",
       "      <th>12</th>\n",
       "      <th>13</th>\n",
       "      <th>14</th>\n",
       "      <th>15</th>\n",
       "      <th>16</th>\n",
       "      <th>17</th>\n",
       "      <th>18</th>\n",
       "    </tr>\n",
       "  </thead>\n",
       "  <tbody>\n",
       "    <tr>\n",
       "      <td>0</td>\n",
       "      <td>1.100471</td>\n",
       "      <td>-0.567690</td>\n",
       "      <td>-1.619161</td>\n",
       "      <td>-1.937658</td>\n",
       "      <td>-1.463670</td>\n",
       "      <td>-0.593563</td>\n",
       "      <td>-0.931529</td>\n",
       "      <td>-1.420322</td>\n",
       "      <td>1.821240</td>\n",
       "      <td>-1.388858</td>\n",
       "      <td>-1.591962</td>\n",
       "      <td>-1.584179</td>\n",
       "      <td>-1.254372</td>\n",
       "      <td>-1.465844</td>\n",
       "      <td>1.193819</td>\n",
       "      <td>-0.305192</td>\n",
       "      <td>0.023900</td>\n",
       "      <td>-1.313896</td>\n",
       "      <td>-1.575055</td>\n",
       "    </tr>\n",
       "    <tr>\n",
       "      <td>1</td>\n",
       "      <td>-0.597404</td>\n",
       "      <td>-1.664234</td>\n",
       "      <td>0.022123</td>\n",
       "      <td>-0.715816</td>\n",
       "      <td>-1.250234</td>\n",
       "      <td>-0.717513</td>\n",
       "      <td>-0.327977</td>\n",
       "      <td>-0.541535</td>\n",
       "      <td>0.530431</td>\n",
       "      <td>-0.613977</td>\n",
       "      <td>-0.066316</td>\n",
       "      <td>-0.567712</td>\n",
       "      <td>-0.587031</td>\n",
       "      <td>0.036779</td>\n",
       "      <td>0.813947</td>\n",
       "      <td>-0.706509</td>\n",
       "      <td>0.363236</td>\n",
       "      <td>-1.313896</td>\n",
       "      <td>-1.170987</td>\n",
       "    </tr>\n",
       "    <tr>\n",
       "      <td>2</td>\n",
       "      <td>-0.625501</td>\n",
       "      <td>0.650691</td>\n",
       "      <td>0.514508</td>\n",
       "      <td>1.406331</td>\n",
       "      <td>0.823141</td>\n",
       "      <td>0.150140</td>\n",
       "      <td>0.275574</td>\n",
       "      <td>0.973615</td>\n",
       "      <td>-1.018540</td>\n",
       "      <td>0.935786</td>\n",
       "      <td>0.280422</td>\n",
       "      <td>1.020517</td>\n",
       "      <td>0.935875</td>\n",
       "      <td>0.756785</td>\n",
       "      <td>0.054202</td>\n",
       "      <td>0.296785</td>\n",
       "      <td>-0.994110</td>\n",
       "      <td>-0.171003</td>\n",
       "      <td>0.175906</td>\n",
       "    </tr>\n",
       "    <tr>\n",
       "      <td>3</td>\n",
       "      <td>-0.368612</td>\n",
       "      <td>-0.811367</td>\n",
       "      <td>-0.306134</td>\n",
       "      <td>-1.101661</td>\n",
       "      <td>-1.280725</td>\n",
       "      <td>-0.717513</td>\n",
       "      <td>-0.126794</td>\n",
       "      <td>-0.602141</td>\n",
       "      <td>0.659512</td>\n",
       "      <td>-0.613977</td>\n",
       "      <td>-0.343706</td>\n",
       "      <td>-0.631242</td>\n",
       "      <td>-0.672588</td>\n",
       "      <td>-0.119745</td>\n",
       "      <td>1.573692</td>\n",
       "      <td>-0.104533</td>\n",
       "      <td>-1.107222</td>\n",
       "      <td>-1.477167</td>\n",
       "      <td>-1.844434</td>\n",
       "    </tr>\n",
       "    <tr>\n",
       "      <td>4</td>\n",
       "      <td>-1.560737</td>\n",
       "      <td>-1.055043</td>\n",
       "      <td>0.022123</td>\n",
       "      <td>-0.137049</td>\n",
       "      <td>-0.457473</td>\n",
       "      <td>0.274091</td>\n",
       "      <td>0.074390</td>\n",
       "      <td>-0.662747</td>\n",
       "      <td>0.530431</td>\n",
       "      <td>-0.613977</td>\n",
       "      <td>0.003032</td>\n",
       "      <td>-0.631242</td>\n",
       "      <td>-0.661180</td>\n",
       "      <td>-0.025831</td>\n",
       "      <td>-0.199047</td>\n",
       "      <td>-1.107827</td>\n",
       "      <td>-0.994110</td>\n",
       "      <td>-0.171003</td>\n",
       "      <td>0.445284</td>\n",
       "    </tr>\n",
       "    <tr>\n",
       "      <td>...</td>\n",
       "      <td>...</td>\n",
       "      <td>...</td>\n",
       "      <td>...</td>\n",
       "      <td>...</td>\n",
       "      <td>...</td>\n",
       "      <td>...</td>\n",
       "      <td>...</td>\n",
       "      <td>...</td>\n",
       "      <td>...</td>\n",
       "      <td>...</td>\n",
       "      <td>...</td>\n",
       "      <td>...</td>\n",
       "      <td>...</td>\n",
       "      <td>...</td>\n",
       "      <td>...</td>\n",
       "      <td>...</td>\n",
       "      <td>...</td>\n",
       "      <td>...</td>\n",
       "      <td>...</td>\n",
       "    </tr>\n",
       "    <tr>\n",
       "      <td>544</td>\n",
       "      <td>1.714595</td>\n",
       "      <td>-0.080338</td>\n",
       "      <td>-0.962648</td>\n",
       "      <td>0.313104</td>\n",
       "      <td>0.426760</td>\n",
       "      <td>0.274091</td>\n",
       "      <td>-0.126794</td>\n",
       "      <td>0.003919</td>\n",
       "      <td>-0.114974</td>\n",
       "      <td>-0.226536</td>\n",
       "      <td>-0.967834</td>\n",
       "      <td>0.353461</td>\n",
       "      <td>-0.102211</td>\n",
       "      <td>-0.808447</td>\n",
       "      <td>-0.072423</td>\n",
       "      <td>0.096126</td>\n",
       "      <td>1.381246</td>\n",
       "      <td>-0.171003</td>\n",
       "      <td>-0.093473</td>\n",
       "    </tr>\n",
       "    <tr>\n",
       "      <td>545</td>\n",
       "      <td>-1.524612</td>\n",
       "      <td>-0.811367</td>\n",
       "      <td>-1.126776</td>\n",
       "      <td>0.184489</td>\n",
       "      <td>0.243815</td>\n",
       "      <td>-0.097761</td>\n",
       "      <td>-0.126794</td>\n",
       "      <td>-0.147596</td>\n",
       "      <td>-0.114974</td>\n",
       "      <td>-0.226536</td>\n",
       "      <td>-1.314572</td>\n",
       "      <td>-0.091244</td>\n",
       "      <td>-0.216286</td>\n",
       "      <td>-1.403235</td>\n",
       "      <td>-1.212040</td>\n",
       "      <td>-1.107827</td>\n",
       "      <td>1.381246</td>\n",
       "      <td>1.461702</td>\n",
       "      <td>1.253420</td>\n",
       "    </tr>\n",
       "    <tr>\n",
       "      <td>546</td>\n",
       "      <td>0.345860</td>\n",
       "      <td>0.894368</td>\n",
       "      <td>1.827536</td>\n",
       "      <td>1.149101</td>\n",
       "      <td>1.067067</td>\n",
       "      <td>0.026190</td>\n",
       "      <td>0.677942</td>\n",
       "      <td>1.761494</td>\n",
       "      <td>-1.405783</td>\n",
       "      <td>1.710667</td>\n",
       "      <td>2.083458</td>\n",
       "      <td>1.338163</td>\n",
       "      <td>1.808552</td>\n",
       "      <td>0.913309</td>\n",
       "      <td>0.054202</td>\n",
       "      <td>-1.308486</td>\n",
       "      <td>-0.202325</td>\n",
       "      <td>-0.497544</td>\n",
       "      <td>0.175906</td>\n",
       "    </tr>\n",
       "    <tr>\n",
       "      <td>547</td>\n",
       "      <td>-0.015390</td>\n",
       "      <td>-0.567690</td>\n",
       "      <td>0.022123</td>\n",
       "      <td>-0.329971</td>\n",
       "      <td>0.579214</td>\n",
       "      <td>0.274091</td>\n",
       "      <td>0.074390</td>\n",
       "      <td>-0.238505</td>\n",
       "      <td>0.014107</td>\n",
       "      <td>-0.226536</td>\n",
       "      <td>0.211074</td>\n",
       "      <td>0.035815</td>\n",
       "      <td>-0.284731</td>\n",
       "      <td>-0.025831</td>\n",
       "      <td>-0.832168</td>\n",
       "      <td>-0.505851</td>\n",
       "      <td>-1.220334</td>\n",
       "      <td>0.808620</td>\n",
       "      <td>0.714663</td>\n",
       "    </tr>\n",
       "    <tr>\n",
       "      <td>548</td>\n",
       "      <td>-0.272279</td>\n",
       "      <td>2.843778</td>\n",
       "      <td>1.171022</td>\n",
       "      <td>1.792176</td>\n",
       "      <td>1.798846</td>\n",
       "      <td>0.398042</td>\n",
       "      <td>0.677942</td>\n",
       "      <td>1.306948</td>\n",
       "      <td>-1.276702</td>\n",
       "      <td>1.323226</td>\n",
       "      <td>1.043245</td>\n",
       "      <td>1.242869</td>\n",
       "      <td>1.300917</td>\n",
       "      <td>1.414183</td>\n",
       "      <td>-0.832168</td>\n",
       "      <td>2.905351</td>\n",
       "      <td>1.381246</td>\n",
       "      <td>0.808620</td>\n",
       "      <td>1.253420</td>\n",
       "    </tr>\n",
       "  </tbody>\n",
       "</table>\n",
       "<p>549 rows × 19 columns</p>\n",
       "</div>"
      ],
      "text/plain": [
       "            0         1         2         3         4         5         6  \\\n",
       "0    1.100471 -0.567690 -1.619161 -1.937658 -1.463670 -0.593563 -0.931529   \n",
       "1   -0.597404 -1.664234  0.022123 -0.715816 -1.250234 -0.717513 -0.327977   \n",
       "2   -0.625501  0.650691  0.514508  1.406331  0.823141  0.150140  0.275574   \n",
       "3   -0.368612 -0.811367 -0.306134 -1.101661 -1.280725 -0.717513 -0.126794   \n",
       "4   -1.560737 -1.055043  0.022123 -0.137049 -0.457473  0.274091  0.074390   \n",
       "..        ...       ...       ...       ...       ...       ...       ...   \n",
       "544  1.714595 -0.080338 -0.962648  0.313104  0.426760  0.274091 -0.126794   \n",
       "545 -1.524612 -0.811367 -1.126776  0.184489  0.243815 -0.097761 -0.126794   \n",
       "546  0.345860  0.894368  1.827536  1.149101  1.067067  0.026190  0.677942   \n",
       "547 -0.015390 -0.567690  0.022123 -0.329971  0.579214  0.274091  0.074390   \n",
       "548 -0.272279  2.843778  1.171022  1.792176  1.798846  0.398042  0.677942   \n",
       "\n",
       "            7         8         9        10        11        12        13  \\\n",
       "0   -1.420322  1.821240 -1.388858 -1.591962 -1.584179 -1.254372 -1.465844   \n",
       "1   -0.541535  0.530431 -0.613977 -0.066316 -0.567712 -0.587031  0.036779   \n",
       "2    0.973615 -1.018540  0.935786  0.280422  1.020517  0.935875  0.756785   \n",
       "3   -0.602141  0.659512 -0.613977 -0.343706 -0.631242 -0.672588 -0.119745   \n",
       "4   -0.662747  0.530431 -0.613977  0.003032 -0.631242 -0.661180 -0.025831   \n",
       "..        ...       ...       ...       ...       ...       ...       ...   \n",
       "544  0.003919 -0.114974 -0.226536 -0.967834  0.353461 -0.102211 -0.808447   \n",
       "545 -0.147596 -0.114974 -0.226536 -1.314572 -0.091244 -0.216286 -1.403235   \n",
       "546  1.761494 -1.405783  1.710667  2.083458  1.338163  1.808552  0.913309   \n",
       "547 -0.238505  0.014107 -0.226536  0.211074  0.035815 -0.284731 -0.025831   \n",
       "548  1.306948 -1.276702  1.323226  1.043245  1.242869  1.300917  1.414183   \n",
       "\n",
       "           14        15        16        17        18  \n",
       "0    1.193819 -0.305192  0.023900 -1.313896 -1.575055  \n",
       "1    0.813947 -0.706509  0.363236 -1.313896 -1.170987  \n",
       "2    0.054202  0.296785 -0.994110 -0.171003  0.175906  \n",
       "3    1.573692 -0.104533 -1.107222 -1.477167 -1.844434  \n",
       "4   -0.199047 -1.107827 -0.994110 -0.171003  0.445284  \n",
       "..        ...       ...       ...       ...       ...  \n",
       "544 -0.072423  0.096126  1.381246 -0.171003 -0.093473  \n",
       "545 -1.212040 -1.107827  1.381246  1.461702  1.253420  \n",
       "546  0.054202 -1.308486 -0.202325 -0.497544  0.175906  \n",
       "547 -0.832168 -0.505851 -1.220334  0.808620  0.714663  \n",
       "548 -0.832168  2.905351  1.381246  0.808620  1.253420  \n",
       "\n",
       "[549 rows x 19 columns]"
      ]
     },
     "execution_count": 33,
     "metadata": {},
     "output_type": "execute_result"
    }
   ],
   "source": [
    "#pd.DataFrame(X_train)"
   ]
  },
  {
   "cell_type": "markdown",
   "metadata": {},
   "source": [
    "#### 2.1. Базовая логистическая регрессия.\n",
    "* Подберите оптимальные параметры логистической регресии с помощью кросс-валидации на train-датасете (е переусердствуйте с подбором, в данной работе не стоит задача найти самую оптимальную модель. Небольшого grid/random search'а хватит).\n",
    "\n",
    "* Постройте график ROC-кривой для данного классификатора (`sklearn.metrics.roc_curve`), оцените точность классификации и f1-score. "
   ]
  },
  {
   "cell_type": "code",
   "execution_count": 71,
   "metadata": {
    "nbgrader": {
     "grade": true,
     "grade_id": "cell-1dd5ad5d0845cbbb",
     "locked": false,
     "points": 5,
     "schema_version": 2,
     "solution": true
    }
   },
   "outputs": [],
   "source": [
    "### YOUR CODE HERE\n",
    "from sklearn.model_selection import GridSearchCV\n",
    "logistic = LogisticRegression(multi_class='ovr',n_jobs=10, max_iter = 1000, tol = 0.9)\n",
    "parameters = { 'C': np.logspace(-3, 3, 30)}\n"
   ]
  },
  {
   "cell_type": "code",
   "execution_count": 72,
   "metadata": {},
   "outputs": [
    {
     "name": "stdout",
     "output_type": "stream",
     "text": [
      "Non processed data accuracy :  0.7744107744107744\n"
     ]
    }
   ],
   "source": [
    "lr_clf = GridSearchCV(logistic, parameters, scoring = 'accuracy' )\n",
    "lr_clf.fit(X_train, y_train)\n",
    "\n",
    "#lr_clf_proc = GridSearchCV(logistic, parameters, scoring = 'accuracy' )\n",
    "#lr_clf_proc.fit(X_train_processed, y_train)\n",
    "\n",
    "print('Non processed data accuracy : ',  accuracy_score(y_test, lr_clf.predict(X_test)))\n",
    "     # '\\nProcessed data accuracy : ', accuracy_score(y_test, lr_clf_proc.predict(X_test_processed)))"
   ]
  },
  {
   "cell_type": "code",
   "execution_count": 53,
   "metadata": {},
   "outputs": [
    {
     "name": "stdout",
     "output_type": "stream",
     "text": [
      "Non processed data accuracy :  0.797979797979798\n"
     ]
    }
   ],
   "source": [
    "lr_clf = LogisticRegression(C = 1000, multi_class='ovr', n_jobs=10, max_iter = 1000, tol = 0.9)\n",
    "lr_clf.fit(X_train, y_train)\n",
    "predictions = lr_clf.predict(X_test)\n",
    "\n",
    "print('Non processed data accuracy : ',  accuracy_score(y_test, predictions))"
   ]
  },
  {
   "cell_type": "code",
   "execution_count": 54,
   "metadata": {},
   "outputs": [],
   "source": [
    "#lr_clf_proc = LogisticRegression(C = 1000, multi_class='ovr', n_jobs=10, max_iter = 1000, tol = 0.9)\n",
    "#lr_clf_proc.fit(X_train_processed, y_train)\n",
    "#predictions = lr_clf.predict(X_test_processed)\n",
    "\n",
    "#print('Processed data accuracy : ',  accuracy_score(y_test, predictions))"
   ]
  },
  {
   "cell_type": "markdown",
   "metadata": {},
   "source": [
    "#### 2.2. Зависимость объясненной дисперсии от числа главных компонент.\n",
    "Воспользуемся методом главных компонент (PCA). \n",
    "\n",
    "Примените его к train-части данных.\n",
    "Постройте график зависимости объясненной дисперсии (explained variance ratio) от количества главных компонент."
   ]
  },
  {
   "cell_type": "code",
   "execution_count": 63,
   "metadata": {
    "nbgrader": {
     "grade": true,
     "grade_id": "cell-c6c614740bce090e",
     "locked": false,
     "points": 10,
     "schema_version": 2,
     "solution": true
    }
   },
   "outputs": [
    {
     "name": "stdout",
     "output_type": "stream",
     "text": [
      "0.992908234244721\n"
     ]
    }
   ],
   "source": [
    "### YOUR CODE HERE\n",
    "from sklearn.decomposition import PCA\n",
    "\n",
    "pca = PCA(n_components=12)\n",
    "\n",
    "pca.fit(X_train)\n",
    "print(sum(pca.explained_variance_ratio_))"
   ]
  },
  {
   "cell_type": "code",
   "execution_count": 57,
   "metadata": {},
   "outputs": [],
   "source": [
    "def find_num_components(X_train):\n",
    "    EVR = []\n",
    "    for i in range(X_train.shape[1]):\n",
    "        pca = PCA(i)\n",
    "        pca.fit(X_train)\n",
    "        EVR.append(sum(pca.explained_variance_ratio_))\n",
    "        \n",
    "    plt.figure(figsize=(16, 9))\n",
    "    plt.plot(range(X_train.shape[1]), EVR)\n",
    "    plt.show() "
   ]
  },
  {
   "cell_type": "code",
   "execution_count": 58,
   "metadata": {},
   "outputs": [
    {
     "data": {
      "image/png": "[encoded data removed]",
      "text/plain": [
       "<Figure size 1152x648 with 1 Axes>"
      ]
     },
     "metadata": {
      "needs_background": "light"
     },
     "output_type": "display_data"
    }
   ],
   "source": [
    "find_num_components(X_train)"
   ]
  },
  {
   "cell_type": "markdown",
   "metadata": {
    "nbgrader": {
     "grade": false,
     "grade_id": "cell-0c1fe666f52fe53c",
     "locked": true,
     "schema_version": 2,
     "solution": false
    }
   },
   "source": [
    "#### 2.3. Преобразование с помощью PCA.\n",
    "Выберите определенное число компонент. Кратко опишите, чем обусловлен ваш выбор.\n",
    "\n",
    "Используя эти главные компоненты, преобразуйте train и test выборки (используя методы `fit` и `transform`)."
   ]
  },
  {
   "cell_type": "code",
   "execution_count": 83,
   "metadata": {
    "nbgrader": {
     "grade": true,
     "grade_id": "cell-96ab18d96473ef71",
     "locked": false,
     "points": 5,
     "schema_version": 2,
     "solution": true
    }
   },
   "outputs": [
    {
     "name": "stdout",
     "output_type": "stream",
     "text": [
      "0.9971033460224871\n"
     ]
    }
   ],
   "source": [
    "pca = PCA(n_components=14)\n",
    "\n",
    "pca.fit(X_train)\n",
    "print(sum(pca.explained_variance_ratio_))\n",
    "\n",
    "X_train_proc = pca.transform(X_train)\n",
    "X_test_proc = pca.transform(X_test)"
   ]
  },
  {
   "cell_type": "markdown",
   "metadata": {
    "nbgrader": {
     "grade": false,
     "grade_id": "cell-d28b58a35c94e988",
     "locked": true,
     "schema_version": 2,
     "solution": false
    }
   },
   "source": [
    "#### 2.4. Логистическая регрессия над преобразованными данными.\n",
    "* Подберите оптимальные параметры логистической регресии с помощью кросс-валидации на преобразованном train-датасете.\n",
    "\n",
    "* Постройте график ROC-кривой для полученных классификаторов, оцените точность классификации и f1-score. "
   ]
  },
  {
   "cell_type": "code",
   "execution_count": 84,
   "metadata": {},
   "outputs": [
    {
     "name": "stdout",
     "output_type": "stream",
     "text": [
      "Non processed data accuracy :  0.7474747474747475\n"
     ]
    }
   ],
   "source": [
    "logistic = LogisticRegression(multi_class='ovr',n_jobs=10, max_iter = 1000, tol = 0.9)\n",
    "parameters = { 'C': np.logspace(-3, 3, 30)}\n",
    "\n",
    "lr_clf = GridSearchCV(logistic, parameters, scoring = 'accuracy' )\n",
    "lr_clf.fit(X_train_proc, y_train)\n",
    "\n",
    "print('Non processed data accuracy : ',  accuracy_score(y_test, lr_clf.predict(X_test_proc)))"
   ]
  },
  {
   "cell_type": "code",
   "execution_count": 85,
   "metadata": {},
   "outputs": [
    {
     "name": "stdout",
     "output_type": "stream",
     "text": [
      "Non processed data accuracy :  0.7441077441077442\n"
     ]
    }
   ],
   "source": [
    "lr_clf = LogisticRegression(C = 1000, multi_class='ovr', n_jobs=10, max_iter = 1000, tol = 0.9)\n",
    "lr_clf.fit(X_train_proc, y_train)\n",
    "predictions = lr_clf.predict(X_test_proc)\n",
    "\n",
    "print('Non processed data accuracy : ',  accuracy_score(y_test, predictions))"
   ]
  },
  {
   "cell_type": "markdown",
   "metadata": {
    "nbgrader": {
     "grade": false,
     "grade_id": "cell-4fbf16c64076e139",
     "locked": true,
     "schema_version": 2,
     "solution": false
    }
   },
   "source": [
    "#### 2.5. Решающее дерево.\n",
    "Рассмотрим поведение решающего дерева на исходных и преобразованных данных. Будем варьировать лишь один параметр - максимальную глубину дерева. \n",
    "\n",
    "* С помощью кросс-валидации подберите оптимальный параметр `max_depth` и оцените на исходных и преобразованных данных те же метрики, что и выше."
   ]
  },
  {
   "cell_type": "code",
   "execution_count": 13,
   "metadata": {
    "nbgrader": {
     "grade": true,
     "grade_id": "cell-748ed20b51c67fab",
     "locked": false,
     "points": 15,
     "schema_version": 2,
     "solution": true
    }
   },
   "outputs": [],
   "source": [
    "from sklearn.tree import DecisionTreeClassifier\n",
    "\n",
    "# YOUR CODE HERE"
   ]
  },
  {
   "cell_type": "markdown",
   "metadata": {
    "nbgrader": {
     "grade": false,
     "grade_id": "cell-9eadd4d8a03ae67a",
     "locked": true,
     "schema_version": 2,
     "solution": false
    }
   },
   "source": [
    "#### 2.6. Bagging.\n",
    "Перейдем к ансамблям. \n",
    "\n",
    "Для построения ансамбля воспользуемся Bagging'ом с числом алгоритмов от 2 до 50. В качестве первого семейства базовых алгоримтов будем использовать линейные модели (т.е. логистическую регрессию), в качестве второго - решающие деревья. \n",
    "\n",
    "*Пояснение: Будем строить ансамбль только из моделей из одного семейства, т.е. логистическая регрессия не смешивается с решающими деревьями.*\n",
    "\n",
    "Для этого можно сгенерировать с помощью метода bootstrap 50 подвыборок из `train` выборки (того же размера, что и исходная), обучить логистическую регрессию и решающее дерево с оптимальными параметрами из предыдущего пункта на каждой из подвыборок и затем усреднить предсказания k моделей.\n",
    "\n",
    "*Hint: в sklearn может найтись подходящая функция, которая облегчит вам реализацию данного пункта.*\n",
    "\n",
    "* Постройте график качества классификации и f1-score на `train` и `test` датасетах в зависимости от числа алгоритмов, вошедших в ансамбль.\n",
    "\n",
    "* Проанализируйте график. Какое количество моделей стоит использовать? Как вы думаете, являются ли параметры решающего дерева, подобранные в предыдущем пункте оптимальными в данном случае?"
   ]
  },
  {
   "cell_type": "code",
   "execution_count": null,
   "metadata": {
    "nbgrader": {
     "grade": true,
     "grade_id": "cell-8fc95a2b206bdae1",
     "locked": false,
     "points": 35,
     "schema_version": 2,
     "solution": true
    }
   },
   "outputs": [],
   "source": [
    "# YOUR CODE HERE"
   ]
  },
  {
   "cell_type": "markdown",
   "metadata": {
    "nbgrader": {
     "grade": false,
     "grade_id": "cell-241b7691ab44cbfb",
     "locked": true,
     "schema_version": 2,
     "solution": false
    }
   },
   "source": [
    "#### 2.7. Random Forest.\n",
    "Теперь воспользуйтесь `sklearn`-реализацией алгоритма Random Forest. \n",
    "\n",
    "* Постройте аналогичные графики для него (изменяя число деревьев от 1 до 50). Остальные параметры можно оставить по умолчанию.\n",
    "\n",
    "* Проанализируйте полученные результаты. Каким получилось оптимальное число деревьев. Как оно соотносится с оптимальным числом деревьев и линейных моделей в bagging'е из предыдущего пункта?"
   ]
  },
  {
   "cell_type": "code",
   "execution_count": 173,
   "metadata": {
    "nbgrader": {
     "grade": true,
     "grade_id": "cell-888755d0f3d91620",
     "locked": false,
     "points": 15,
     "schema_version": 2,
     "solution": true
    }
   },
   "outputs": [],
   "source": [
    "from sklearn.ensemble import RandomForestClassifier\n",
    "\n",
    "# YOUR CODE HERE"
   ]
  },
  {
   "cell_type": "markdown",
   "metadata": {
    "nbgrader": {
     "grade": false,
     "grade_id": "cell-99191c0852538d4d",
     "locked": true,
     "schema_version": 2,
     "solution": false
    }
   },
   "source": [
    "#### 2.8. Кривая обучения.\n",
    "* Поделите обучающую выборку на 10 примерно равных частей. Обучите логистическую регрессию (с оптимальными параметрами), решающее дерево (аналогично), бэггинг над логистическими регрессиями и решающими деревьями (с выбранными параметрами) и RandomForest (из предыдущего пункта) на одной, двух, трех и т.д. частях.\n",
    "\n",
    "* Постройти график f1-score и accuracy на `train` и `test` датасетах в зависимости от размера обучающей выборки.\n",
    "\n",
    "* Проанализируйте полученный график. Можно ли сделать из него какие-либо выводы? Если да - кратко опишите их."
   ]
  },
  {
   "cell_type": "code",
   "execution_count": null,
   "metadata": {
    "nbgrader": {
     "grade": true,
     "grade_id": "cell-e39bc7e7dff61ff9",
     "locked": false,
     "points": 15,
     "schema_version": 2,
     "solution": true
    }
   },
   "outputs": [],
   "source": [
    "# YOUR CODE HERE"
   ]
  }
 ],
 "metadata": {
  "celltoolbar": "Create Assignment",
  "kernelspec": {
   "display_name": "Python 3",
   "language": "python",
   "name": "python3"
  },
  "language_info": {
   "codemirror_mode": {
    "name": "ipython",
    "version": 3
   },
   "file_extension": ".py",
   "mimetype": "text/x-python",
   "name": "python",
   "nbconvert_exporter": "python",
   "pygments_lexer": "ipython3",
   "version": "3.6.9"
  },
  "toc": {
   "base_numbering": 1,
   "nav_menu": {},
   "number_sections": false,
   "sideBar": true,
   "skip_h1_title": false,
   "title_cell": "Table of Contents",
   "title_sidebar": "Contents",
   "toc_cell": false,
   "toc_position": {},
   "toc_section_display": true,
   "toc_window_display": false
  }
 },
 "nbformat": 4,
 "nbformat_minor": 2
}
